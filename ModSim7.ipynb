{
 "cells": [
  {
   "cell_type": "markdown",
   "metadata": {},
   "source": [
    "## Simulation und Modellierung WS 16/17 Uebung 07 : \n",
    "### Abgabe zum 11.12.2016"
   ]
  },
  {
   "cell_type": "markdown",
   "metadata": {},
   "source": [
    "### <u>Aufgabe 1</u> Erste Schritte mit Git (3P)"
   ]
  },
  {
   "cell_type": "markdown",
   "metadata": {},
   "source": [
    "Ziel dieser Aufgabe ist, die Lösung dieses kompletten Aufgabenblattes bei einem Git-Filehost (github) online zu stellen. An der hochgeladenen Version sollen Sie dann noch mindestens eine Änderung vornehmen.\n",
    "\n",
    "Nun der Reihenfolge nach: \n",
    "* Erstellen Sie einen Account bei Github mit einem `username`\n",
    "\n",
    "  https://github.com/\n",
    " \n",
    "  Erstellen Sie dort per Mausklick ein neues Repository, z.B. `my_repo`. (unter `new repository`)\n",
    "\n",
    "* Installieren Sie git auf Ihrem Arbeitsrechner:\n",
    "\n",
    "  #### Linux:\n",
    "  \n",
    "  `yum install git`\n",
    "  \n",
    "  `apt-get install git`\n",
    "  \n",
    "  `zypper in git`\n",
    "\n",
    "  #### Mac:\n",
    "  \n",
    "  `brew install git`\n",
    "  \n",
    "  https://git-scm.com/download/mac\n",
    "  \n",
    "  #### Windows:\n",
    "  \n",
    "  http://git-for-windows.github.io//\n",
    "\n",
    "  Setzen Sie dann eventuell Namen und Adresse.\n",
    "  \n",
    "  `git config --global user.name \"Your Name\"`\n",
    "  \n",
    "  `git config --global user.email you@example.com`\n",
    "\n",
    "\n",
    "* Initialisieren Sie git in einem neuen Ordner. Fügen Sie `my_repo.git` als origin hinzu. Speichern Sie dieses notebook im neuen Ordner. Führen Sie `git add .`, `git commit -m \"  \"` und `git push origin master` aus. Das alles geht im Terminal folgendermaßen:\n",
    "\n",
    "  ```bash\n",
    "      mkdir neuer_ordner\n",
    "      cd neuer_ordner\n",
    "      git init\n",
    "      git remote add origin https://username@bitbucket.org/username/my_repo.git\n",
    "      cp /path/to/notebook/my_notebook.ipynb my_notebook.ipynb\n",
    "      git add .\n",
    "      git commit -m \"Dieses notebook ist die Hausaufgabe Blatt 7, zunaechst unausgefuellt.\"\n",
    "      git push origin master  \n",
    "  ```\n",
    "  \n",
    "  Sehen Sie nach, ob Ihr notebook online ist.\n",
    "\n",
    "* Spielen Sie mit `git status`, `git log`, `git branch -av` .. herum und klicken Sie im Webfilehost herum, bis Sie sich ein wenig auskennen. Schreiben Sie Fragen für die Übung auf.\n",
    "\n",
    "* Nehmen Sie nun lokal auf Ihrem Rechner Änderungen am notebook vor, zum Beispiel indem Sie die Hausaufgaben lösen. Ändern Sie dies wie oben online: `git add .`, `git commit -m \"  \"`, `git push origin master`. Achten Sie auf sinnvolle commit-Kommentare.\n",
    "  \n",
    "  ```bash\n",
    "      git add .\n",
    "      git commit -m \"Aufg. 1 geloest, es gibt noch ein Problem mit dem Vorzeichen von h.\"\n",
    "      git push origin master  \n",
    "  ```\n",
    "\n",
    "Senden Sie den https-Repository-Pfad an frpeter (at) uni-potsdam.de."
   ]
  },
  {
   "cell_type": "markdown",
   "metadata": {},
   "source": [
    "### <u>Aufgabe 2</u> Das Lineare Least Squares Problem (7P)"
   ]
  },
  {
   "cell_type": "markdown",
   "metadata": {},
   "source": [
    "Fuer die Koordinaten $(x,y)$ eines beliebiegen Kegelschnittes in der Ebene gilt\n",
    "\n",
    "$$\n",
    "        f(x,y) = A x^2 + B xy + C y^2 + D x + E y = 1\n",
    "$$\n",
    "\n",
    "Die Datei `orbit.dat` enthaelt eine Tabelle von $x$ und $y$ Werten, welche messfehlerbehaftete Punkte eines Kegelschnittes sind. \n",
    "\n",
    "\n",
    "- Laden Sie die Daten in ein `numpy` Array und finden Sie die Koeffizienten $A,B,C,D$ und $E$, welche die Summe der quadratischen Abweichungen ueber alle Messpunkte des Ausdrucks auf der linken Seite zur Zahl `1` minimiert.\n",
    "\n",
    "Der Kegelschnitt ist eine geschlossene Kurve, wenn $B^2-4AC<0$ gilt, eine Parabel, wenn $B^2-4AC=0$ und ansonsten eine Hyperbel.\n",
    "\n",
    "- Ist dieser Kegelschnitt eine offene oder geschlossene Kurve?\n",
    "- Zeichnen Sie alle Kurven $y=y(x)$, die die Kegelschnittgleichung mit den von Ihnen gefundenen Koeffizienten erfuellen zusammen mit den Datenpunkten in ein Diagram.\n",
    "\n",
    "*Hinweis* : Sie koennen die Kegelschnittgleichung als quadratische Gleichung explizit nach $y$ aufloesen und beide Loesungen dort plotten, wo der Imaginaerteil gleich Null (oder sehr klein) ist, oder den Wertebereich von $x$ explizit berechnen.\n",
    "\n",
    "*Zur Erinnerung* : Die Summe der quadratischen Abweichungen eines ueberbestimmten linearen Gleichungssystems\n",
    "\n",
    "$$\n",
    "    \\mathrm{A}(\\vec{x},\\vec{y}) \\vec{c} = \\vec{b}\n",
    "$$\n",
    "wird durch die Loesung des kleineren linearen Gleichungssystems\n",
    "\n",
    "$$\n",
    "    \\mathrm{A}^\\top\\mathrm{A} \\vec{c} = \\mathrm{A}^\\top\\vec{b}\n",
    "$$\n",
    "minimiert."
   ]
  },
  {
   "cell_type": "code",
   "execution_count": 2,
   "metadata": {
    "collapsed": false
   },
   "outputs": [
    {
     "name": "stdout",
     "output_type": "stream",
     "text": [
      "Der Kegelschnitt ist eine geschlossene Kurve (Kreis oder Ellipse)\n"
     ]
    },
    {
     "name": "stderr",
     "output_type": "stream",
     "text": [
      "C:\\Users\\yanni_000\\Anaconda3\\lib\\site-packages\\ipykernel\\__main__.py:38: RuntimeWarning: invalid value encountered in sqrt\n",
      "C:\\Users\\yanni_000\\Anaconda3\\lib\\site-packages\\ipykernel\\__main__.py:39: RuntimeWarning: invalid value encountered in sqrt\n"
     ]
    },
    {
     "data": {
      "image/png": "[encoded data removed]",
      "text/plain": [
       "<matplotlib.figure.Figure at 0x22f065dcf8>"
      ]
     },
     "metadata": {},
     "output_type": "display_data"
    }
   ],
   "source": [
    "from pylab import *\n",
    "import numpy as np\n",
    "\n",
    "data = np.loadtxt(\"orbit.dat\") #Laden der gemessenen Orbitdaten\n",
    "x_dat= data[:,0]\n",
    "y_dat= data[:,1]\n",
    "\n",
    "A_mat=np.zeros((200,5)) #A_mat ist die Matrix mit dem entsprechen Produkten aus den x,y Werten in den Spalten(!). \n",
    "A_mat[:,0]=x_dat**2\n",
    "A_mat[:,1]=x_dat*y_dat\n",
    "A_mat[:,2]=y_dat**2\n",
    "A_mat[:,3]=x_dat\n",
    "A_mat[:,4]=y_dat\n",
    "\n",
    "B_mat=np.ones((200)) #Die Lösungsmatrix. In diesem Fall eben ein Eins_Zeilenvektor(!)\n",
    "\n",
    "C_mat=linalg.solve(A_mat.T.dot(A_mat), A_mat.T.dot(B_mat)) #C_mat enthält nun die Lösungen(Koeffizienten) des Gleichungssystems\n",
    "\n",
    "A=C_mat[0] #Zuweisung von Variablen für die Koeffizienten \n",
    "B=C_mat[1]\n",
    "C=C_mat[2]\n",
    "D=C_mat[3]\n",
    "E=C_mat[4]\n",
    "\n",
    "con_sec=B**2-4*A*C # Überprüfendes Kriterium für die Kurvenform \n",
    "\n",
    "if con_sec < 0:\n",
    "    print(\"Der Kegelschnitt ist eine geschlossene Kurve (Kreis oder Ellipse)\")\n",
    "elif con_sec == 0:\n",
    "    print(\"Der Kegelschnitt ist eine Parabel\")\n",
    "else:\n",
    "    print(\"Der Kegelschnitt ist eine Hyperbel\")\n",
    "\n",
    "\n",
    "x=np.linspace(-2,3, 1000000)     # Darstellung des Kegelschnittes mit einer y(x) Gleichung und den gefunden Koeffizienten.\n",
    "p=(B*x+E)/C\n",
    "q=(D*x+A*x**2-1)/C\n",
    "f1= -p/2 + sqrt((p**2/4)-q)\n",
    "f2= -p/2 - sqrt((p**2/4)-q)\n",
    "\n",
    "plot(x,f1, 'r')     #Plot der Grafiken. Seitenverhältnisse wurden angepasst\n",
    "plot(x,f2, 'r')\n",
    "plot(x_dat, y_dat, '.b')\n",
    "plt.axes().set_aspect('equal')\n",
    "show()"
   ]
  },
  {
   "cell_type": "code",
   "execution_count": 31,
   "metadata": {
    "collapsed": true
   },
   "outputs": [],
   "source": []
  },
  {
   "cell_type": "markdown",
   "metadata": {},
   "source": [
    "### <u>Zusatzaufgabe</u> (2P)"
   ]
  },
  {
   "cell_type": "markdown",
   "metadata": {},
   "source": [
    "- Schreiben Sie eine Funktion `polyfit(x,y,N=0)`, welche fuer `L` Datenpunkte in den Containern `x` und `y` die Koeffizienten `c` eines Polynoms \n",
    "$$\n",
    "    y = p(x)= c_0 x^0 + c_1 x^1 + c_2 x^2 + \\dots + c_N x^N\n",
    "$$ \n",
    "`N`ten Grades findet, welches die Summe der quadratischen Abweichungen $\\sum_l (p(x_l)-y_l)^2$ minimiert. *Hinweis* : wandeln Sie `x` und `y` in `numpy` arrays um.\n",
    "- Demonstrieren Sie die Funktion grafisch anhand von `L` $\\gg$ `N` Punkten eines Polynoms, welche zufaellige Abweichungen in $x$ und $y$ Richtung aufweisen.\n",
    "- Finden Sie ein Polynom, welches die Daten der ersten Aufgabe gut beschreibt."
   ]
  },
  {
   "cell_type": "code",
   "execution_count": 15,
   "metadata": {
    "collapsed": false
   },
   "outputs": [],
   "source": [
    "def polyfit(x,y,N=0):\n",
    "    \"\"\"\n",
    "        Polyfit findet die Koeffizientenmatrix ausgehend von Containern(!), die die Variablen x und die entsprechenden\n",
    "        Lösungen y enthalten. Der Grad des zubestimmmenden Polynoms kann mit dem Argument N kontrolliert werden.\n",
    "    \n",
    "    \"\"\"\n",
    "    x_dat = np.array(x)\n",
    "    y_dat = np.array(y)\n",
    "    \n",
    "    m = len(y)\n",
    "    \n",
    "    A_mat= np.zeros((m,N+1))\n",
    "    for i in range(N+1):\n",
    "        A_mat[:,i] = x_dat**i\n",
    "        \n",
    "    C_mat = np.linalg.solve(A_mat.T.dot(A_mat), A_mat.T.dot(y_dat))\n",
    "    \n",
    "    return(C_mat)"
   ]
  },
  {
   "cell_type": "raw",
   "metadata": {
    "collapsed": false
   },
   "source": [
    "\"\"\"Demonstration an einem Polynom mit bekannten Koeffizienten\"\"\"\n",
    "\n",
    "x= np.linspace(-10,10,100)\n",
    "y= 2+ 4*x+ 3*x**2\n",
    "\n",
    "print(y)\n",
    "print(polyfit(x,y,N=2))"
   ]
  },
  {
   "cell_type": "code",
   "execution_count": null,
   "metadata": {
    "collapsed": false,
    "scrolled": true
   },
   "outputs": [],
   "source": [
    "\"\"\"Demonstration an einen Unbekannten Polynom\"\"\"\n",
    "\n",
    "n = 2 #Grad des Polynoms\n",
    "\n",
    "x=np.random.rand(n**5)\n",
    "y=np.random.rand(n**5)\n",
    "\n",
    "print(polyfit(x,y,N=n-1))"
   ]
  },
  {
   "cell_type": "code",
   "execution_count": 27,
   "metadata": {
    "collapsed": false
   },
   "outputs": [
    {
     "name": "stdout",
     "output_type": "stream",
     "text": [
      "[ 0.61824282 -0.72145652 -0.36420239 -0.09350445 -0.06921684]\n"
     ]
    }
   ],
   "source": [
    "\"\"\"Test an orbit.dat\"\"\"\n",
    "\n",
    "data = np.loadtxt(\"orbit.dat\")\n",
    "x_dat= data[:,0]\n",
    "y_dat= data[:,1]\n",
    "\n",
    "print(polyfit(x_dat, y_dat, N=4))"
   ]
  },
  {
   "cell_type": "code",
   "execution_count": 28,
   "metadata": {
    "collapsed": true
   },
   "outputs": [],
   "source": [
    "np.random.rand?"
   ]
  }
 ],
 "metadata": {
  "anaconda-cloud": {},
  "kernelspec": {
   "display_name": "Python [default]",
   "language": "python",
   "name": "python3"
  },
  "language_info": {
   "codemirror_mode": {
    "name": "ipython",
    "version": 3
   },
   "file_extension": ".py",
   "mimetype": "text/x-python",
   "name": "python",
   "nbconvert_exporter": "python",
   "pygments_lexer": "ipython3",
   "version": "3.5.2"
  }
 },
 "nbformat": 4,
 "nbformat_minor": 0
}
